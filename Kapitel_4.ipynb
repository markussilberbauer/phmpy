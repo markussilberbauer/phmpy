{
 "cells": [
  {
   "cell_type": "code",
   "execution_count": 15,
   "metadata": {},
   "outputs": [
    {
     "data": {
      "image/png": "[encoded data removed]",
      "text/plain": [
       "<Figure size 640x480 with 1 Axes>"
      ]
     },
     "metadata": {},
     "output_type": "display_data"
    },
    {
     "name": "stdout",
     "output_type": "stream",
     "text": [
      "0.0 10.0\n"
     ]
    }
   ],
   "source": [
    "import numpy as np\n",
    "import matplotlib.pyplot as plt\n",
    "\n",
    "h = 10.0\n",
    "v_ab = 5.0\n",
    "alpha = np.radians(25.0)\n",
    "g = 9.81\n",
    "\n",
    "r0 = np.array([0,h])\n",
    "v0 = np.array([v_ab * np.cos(alpha), v_ab * np.sin(alpha)])\n",
    "a = np.array([0, -g])\n",
    "\n",
    "#t_e = v0[1] / g + np.sqrt((v0[1] / g) ** 2 + 2 * r0[1] / g)\n",
    "t_e = v0[1] / g + np.sqrt((v0[1] / g) ** 2 + 2 * h / g)\n",
    "t = np.linspace(0, t_e, 1000)\n",
    "t = t.reshape(-1, 1)\n",
    "\n",
    "r = r0 + v0 * t + 0.5 * a * t**2\n",
    "\n",
    "fig = plt.figure()\n",
    "ax = fig.add_subplot(1, 1, 1)\n",
    "ax.set_xlabel('x []')\n",
    "ax.set_ylabel('y []')\n",
    "ax.grid()\n",
    "\n",
    "ax.plot(r[:,0], r[:, 1])\n",
    "plt.show()\n",
    "\n",
    "print(r[0,0], r[0,1])"
   ]
  },
  {
   "cell_type": "code",
   "execution_count": 12,
   "metadata": {
    "tags": []
   },
   "outputs": [],
   "source": [
    "# Programm 4.4\n",
    "\n",
    "import numpy as np\n",
    "\n",
    "r0_hund = np.array([0.0, 10.0])\n",
    "r0_mensch = np.array([0.0, 0.0])\n",
    "v0_mensch = np.array([2.0, 0.0])\n",
    "\n",
    "v0_hund = 3.0\n",
    "\n",
    "t_max = 500\n",
    "dt = 0.01\n",
    "epsilon = v0_hund * dt\n",
    "\n",
    "t = [0]\n",
    "r_hund = [r0_hund]\n",
    "r_mensch = [r0_mensch]\n",
    "v_hund = []\n",
    "\n",
    "while True:\n",
    "    delta_r = r_mensch[-1] - r_hund[-1]\n",
    "    v = v0_hund * delta_r / np.linalg.norm(delta_r)\n",
    "    v_hund.append(v)\n",
    "\n",
    "    if np.linalg.norm(delta_r) < epsilon or (t[-1] > t_max):\n",
    "        break\n",
    "\n",
    "    r_hund.append(r_hund[-1] + dt * v)\n",
    "    r_mensch.append(r_mensch[-1] + dt * v0_mensch)\n",
    "    t.append(t[-1] + dt)\n",
    "\n",
    "t = np.array(t)\n",
    "r_hund = np.array(r_hund)\n",
    "v_hund = np.array(v_hund)\n",
    "r_mensch = np.array(r_mensch)\n",
    "\n",
    "a_hund = (v_hund[1:, :] - v_hund[:-1, :]) / dt\n"
   ]
  },
  {
   "cell_type": "code",
   "execution_count": 15,
   "metadata": {
    "tags": []
   },
   "outputs": [
    {
     "name": "stdout",
     "output_type": "stream",
     "text": [
      "599\n",
      "0\n",
      "update\n"
     ]
    },
    {
     "name": "stderr",
     "output_type": "stream",
     "text": [
      "C:\\Users\\marku\\AppData\\Local\\Temp\\ipykernel_13564\\427520638.py:35: MatplotlibDeprecationWarning: Setting data with a non sequence type is deprecated since 3.7 and will be remove two minor releases later\n",
      "  hund.set_data(r_hund[n])\n",
      "C:\\Users\\marku\\AppData\\Local\\Temp\\ipykernel_13564\\427520638.py:36: MatplotlibDeprecationWarning: Setting data with a non sequence type is deprecated since 3.7 and will be remove two minor releases later\n",
      "  mensch.set_data(r_mensch[n])\n"
     ]
    },
    {
     "name": "stdout",
     "output_type": "stream",
     "text": [
      "0\n",
      "update\n"
     ]
    },
    {
     "data": {
      "image/png": "[encoded data removed]",
      "text/plain": [
       "<Figure size 750x350 with 1 Axes>"
      ]
     },
     "metadata": {},
     "output_type": "display_data"
    }
   ],
   "source": [
    "%matplotlib inline\n",
    "import matplotlib as mpl\n",
    "import matplotlib.pyplot as plt\n",
    "import matplotlib.animation\n",
    "\n",
    "fig = plt.figure()\n",
    "ax = fig.add_subplot(1, 1, 1)\n",
    "ax.set_xlabel('x [m]')\n",
    "ax.set_ylabel('y [m]')\n",
    "ax.set_xlim(-0.2, 15)\n",
    "ax.set_ylim(-0.2, 10)\n",
    "ax.set_aspect('equal')\n",
    "ax.grid()\n",
    "\n",
    "plot, = ax.plot([], [])\n",
    "hund, = ax.plot([], [], 'o', color='blue')\n",
    "mensch, = ax.plot([], [], 'o', color='red')\n",
    "\n",
    "style = mpl.patches.ArrowStyle.Simple(head_length=6, head_width=3)\n",
    "arrow_v = mpl.patches.FancyArrowPatch((0,0), (0,0), color='red', arrowstyle=style)\n",
    "arrow_a = mpl.patches.FancyArrowPatch((0,0), (0,0), color='blue', arrowstyle=style)\n",
    "\n",
    "ax.add_artist(arrow_v)\n",
    "ax.add_artist(arrow_a)\n",
    "\n",
    "def update(n):\n",
    "    print(n)\n",
    "    print(\"update\")\n",
    "    arrow_v.set_positions(r_hund[n], r_hund[n] + v_hund[n])\n",
    "\n",
    "    if n < a_hund.shape[0]:\n",
    "        arrow_a.set_positions(r_hund[n], r_hund[n] + a_hund[n])\n",
    "\n",
    "    hund.set_data(r_hund[n])\n",
    "    mensch.set_data(r_mensch[n])\n",
    "\n",
    "    plot.set_data(r_hund[:n + 1, 0], r_hund[:n + 1, 1])\n",
    "    return hund, mensch, arrow_v, arrow_a, plot\n",
    "print(t.size)\n",
    "ani = mpl.animation.FuncAnimation(fig, update, interval=30, frames=t.size, blit=True)\n",
    "\n",
    "plt.show()"
   ]
  },
  {
   "cell_type": "code",
   "execution_count": null,
   "metadata": {},
   "outputs": [],
   "source": []
  }
 ],
 "metadata": {
  "kernelspec": {
   "display_name": "Python 3 (ipykernel)",
   "language": "python",
   "name": "python3"
  },
  "language_info": {
   "codemirror_mode": {
    "name": "ipython",
    "version": 3
   },
   "file_extension": ".py",
   "mimetype": "text/x-python",
   "name": "python",
   "nbconvert_exporter": "python",
   "pygments_lexer": "ipython3",
   "version": "3.11.3"
  }
 },
 "nbformat": 4,
 "nbformat_minor": 4
}
