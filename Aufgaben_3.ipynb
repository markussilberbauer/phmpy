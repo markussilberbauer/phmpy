{
 "cells": [
  {
   "cell_type": "code",
   "execution_count": 15,
   "metadata": {},
   "outputs": [
    {
     "name": "stdout",
     "output_type": "stream",
     "text": [
      "p=84.80% err=0.00000\n"
     ]
    }
   ],
   "source": [
    "# Aufgabe 3.3\n",
    "import numpy as np\n",
    "import scipy.integrate\n",
    "\n",
    "#f = np.array([0.2, 0.5, 0.57, 0.63, 0.67, 0.71, 0.8, 1.00, 1.33])\n",
    "#A = np.array([0.84, 1.42, 1.8, 2.1, 2.22, 2.06, 1.45, 0.64, 0.3])\n",
    "#Ae = np.array([0.04, 0.07, 0.09, 0.11, 0.11, 0.10, 0.08, 0.03, 0.02])\n",
    "T = np.array([2.05, 1.99, 2.06, 1.97, 2.01, 2.00, 2.03, 1.97, 2.02, 1.96])\n",
    "\n",
    "mittel = np.mean(T)\n",
    "sigma = np.std(T, ddof=1)\n",
    "\n",
    "def f(x):\n",
    "    a = 1 / (np.sqrt(2 * np.pi) * sigma)\n",
    "    return a * np.exp(- (x-mittel)**2 / (2 * sigma**2))\n",
    "\n",
    "T_min = 1.95\n",
    "T_max = 2.05\n",
    "p, err = scipy.integrate.quad(f, T_min, T_max)\n",
    "print(f\"p={100*p:.2f}% err={err:.5f}\")"
   ]
  },
  {
   "cell_type": "code",
   "execution_count": null,
   "metadata": {},
   "outputs": [],
   "source": []
  }
 ],
 "metadata": {
  "kernelspec": {
   "display_name": "Python 3",
   "language": "python",
   "name": "python3"
  },
  "language_info": {
   "codemirror_mode": {
    "name": "ipython",
    "version": 3
   },
   "file_extension": ".py",
   "mimetype": "text/x-python",
   "name": "python",
   "nbconvert_exporter": "python",
   "pygments_lexer": "ipython3",
   "version": "3.11.3"
  },
  "orig_nbformat": 4
 },
 "nbformat": 4,
 "nbformat_minor": 2
}
